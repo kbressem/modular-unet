{
 "cells": [
  {
   "cell_type": "code",
   "execution_count": null,
   "metadata": {},
   "outputs": [],
   "source": [
    "# hide\n",
    "import sys\n",
    "sys.path.append('..')\n",
    "from torch import nn\n",
    "\n",
    "from modular_unet.modular_unet import ModularUNet\n",
    "from modular_unet.blocks import BasicResBlock, DoubleConv, UnetBlock, ConvLayer\n",
    "from modular_unet.utils import test_forward"
   ]
  },
  {
   "cell_type": "markdown",
   "metadata": {},
   "source": [
    "# Modular 3D U-Net\n",
    "> A modular U-net that allows the quick experimentation with different architectures."
   ]
  },
  {
   "cell_type": "markdown",
   "metadata": {},
   "source": [
    "U-Net architectures are widely used for the segmentation of medical images with many papers proposing small changes to the basic U-Net architecture to improve the overall performance. `ModularUNet` allows to quickly try out multiple differnt building blocks with minimal code overhead. For example a `UResNet18` like model can be build with the following commands:  \n",
    "\n",
    "At first create an abstract class, defining the basic building blocks. For a UResNet we want a `BasicResBlock` without bottlenecks in the encoder, a simpl double convolution after the encoder and simple `UNetBlock`s in the decoder. As final layer for creating the segmentation maps, we take a simple convolutional layer without normalization or activation layer. "
   ]
  },
  {
   "cell_type": "code",
   "execution_count": null,
   "metadata": {},
   "outputs": [],
   "source": [
    "class UResNet(ModularUNet):    \n",
    "    def encoder_layer(self, **kwargs): return BasicResBlock(**kwargs)\n",
    "    def middle_layer(self, **kwargs): return DoubleConv(**kwargs)\n",
    "    def skip_layer(self, **kwargs): return nn.Identity()\n",
    "    def decoder_layer(self, **kwargs): return UnetBlock(**kwargs)\n",
    "    def extra_after_decoder_layer(self, **kwargs): return nn.Identity()\n",
    "    def final_layer(self, **kwargs): return ConvLayer(act=None, norm=None, **kwargs)"
   ]
  },
  {
   "cell_type": "markdown",
   "metadata": {},
   "source": [
    "The abstract `UResNet` class can now be subclassed to specify a `UResNet18`.  \n",
    "\n",
    "We want the number of channels after the first block (stem) to be 32, then gradually increase to 64, 128, 256, and 512.   \n",
    "The `kernel_size` of the first Convlayer in the `BasicResBlock` should always be 3, except for the stem where it is 5.  \n",
    "`stride` is kept constant and `padding` will be automatically be calculated for each `ConvLayer` in dependece to the `kernel_size` .        \n",
    "To create a ResNet18-like architecture, we want to stack two `BasicResBlock` for each network block, creating `n_block` building blocks in the encoder\n"
   ]
  },
  {
   "cell_type": "code",
   "execution_count": null,
   "metadata": {},
   "outputs": [],
   "source": [
    "class UResNet18(UResNet):\n",
    "    \" UNet with ResNet18-like Backbone \"\n",
    "    channels = 32, 64, 128, 256, 512\n",
    "    kernel_size = 5, 3, 3, 3, 3\n",
    "    stride = 2, 2, 2, 2, 2\n",
    "    padding = 'auto', 'auto', 'auto', 'auto', 'auto'\n",
    "    n_layers = 1, 2, 2, 2, 2\n",
    "    n_blocks = 5"
   ]
  },
  {
   "cell_type": "code",
   "execution_count": null,
   "metadata": {},
   "outputs": [],
   "source": [
    "uresnet18 = UResNet18(in_c = 3, n_classes = 2)\n",
    "test_forward(uresnet18)"
   ]
  },
  {
   "cell_type": "markdown",
   "metadata": {},
   "source": [
    "To change some components to the `UResNet18` one can either subclass or monkey patch additonal functonality. "
   ]
  },
  {
   "cell_type": "code",
   "execution_count": null,
   "metadata": {},
   "outputs": [],
   "source": [
    "from fastcore.dispatch import patch\n",
    "@patch\n",
    "def decoder_layer(self:UResNet18, **kwargs): \n",
    "    return UnetBlock(spatial_attention=True, **kwargs)"
   ]
  },
  {
   "cell_type": "code",
   "execution_count": null,
   "metadata": {},
   "outputs": [],
   "source": [
    "uresnet18_with_attention = UResNet18(in_c = 3, n_classes = 2)\n",
    "test_forward(uresnet18_with_attention)"
   ]
  },
  {
   "cell_type": "code",
   "execution_count": null,
   "metadata": {},
   "outputs": [],
   "source": [
    "assert not hasattr(uresnet18.decoder_block_1, 'sa')\n",
    "assert hasattr(uresnet18_with_attention.decoder_block_1, 'sa')"
   ]
  },
  {
   "cell_type": "code",
   "execution_count": null,
   "metadata": {},
   "outputs": [],
   "source": []
  }
 ],
 "metadata": {
  "kernelspec": {
   "display_name": "Python 3",
   "language": "python",
   "name": "python3"
  }
 },
 "nbformat": 4,
 "nbformat_minor": 4
}
