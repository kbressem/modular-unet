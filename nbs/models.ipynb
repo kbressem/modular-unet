{
 "cells": [
  {
   "cell_type": "markdown",
   "id": "195bd1c1-3b9f-44d2-86a9-3266d485967f",
   "metadata": {},
   "source": [
    "# Models"
   ]
  },
  {
   "cell_type": "code",
   "execution_count": null,
   "id": "6dee10d9-d0db-4e87-b1a4-fa0c15ef39c1",
   "metadata": {},
   "outputs": [],
   "source": [
    "# export\n",
    "# default_exp models\n",
    "import torch\n",
    "from torch import nn\n",
    "from fastcore.dispatch import patch"
   ]
  },
  {
   "cell_type": "code",
   "execution_count": null,
   "id": "f1c18875-a562-43e9-b2eb-97f4af5809ee",
   "metadata": {},
   "outputs": [],
   "source": [
    "# export\n",
    "import sys\n",
    "sys.path.append('..')\n",
    "from attention_unet.modular_unet import ModularUNet\n",
    "from attention_unet.blocks import BasicResBlock, UnetBlock, ConvLayer, DoubleConv, SqueezeExpand, DeepSupervision\n",
    "from attention_unet.utils import test_forward"
   ]
  },
  {
   "cell_type": "markdown",
   "id": "9395ed55-ff5f-4a5f-8b5c-179d18b28613",
   "metadata": {},
   "source": [
    "## ResNet-Based Models"
   ]
  },
  {
   "cell_type": "code",
   "execution_count": null,
   "id": "1233dea3-bbc2-472b-bec6-a5997972bada",
   "metadata": {},
   "outputs": [],
   "source": [
    "# export\n",
    "class UResNet(ModularUNet):    \n",
    "    def encoder_layer(self, **kwargs): return BasicResBlock(**kwargs)\n",
    "    def middle_layer(self, **kwargs): return DoubleConv(**kwargs)\n",
    "    def skip_layer(self, **kwargs): return nn.Identity()\n",
    "    def decoder_layer(self, **kwargs): return UnetBlock(**kwargs)\n",
    "    def extra_after_decoder_layer(self, **kwargs): return nn.Identity()\n",
    "    def final_layer(self, **kwargs): return BasicResBlock(**kwargs)"
   ]
  },
  {
   "cell_type": "markdown",
   "id": "e956b9b3-4935-4a08-a2a0-77ded71b3ccd",
   "metadata": {},
   "source": [
    "### UResNet18-like models"
   ]
  },
  {
   "cell_type": "code",
   "execution_count": null,
   "id": "61b0c651-5e00-4177-9a3c-5df5572dc5f0",
   "metadata": {},
   "outputs": [],
   "source": [
    "# export \n",
    "class UResNet18(UResNet):\n",
    "    \" UNet with ResNet18-like Backbone \"\n",
    "    channels = 32, 64, 128, 256, 512\n",
    "    kernel_size = 3, 3, 3, 3, 3\n",
    "    stride = 2, 2, 2, 2, 2\n",
    "    padding = 'auto', 'auto', 'auto', 'auto', 'auto'\n",
    "    n_layers = 1, 2, 2, 2, 2\n",
    "    n_blocks = 5"
   ]
  },
  {
   "cell_type": "code",
   "execution_count": null,
   "id": "36263fae-d83b-4d75-a58a-6e2b99b4af0a",
   "metadata": {},
   "outputs": [],
   "source": [
    "test_forward(UResNet18(3,3))"
   ]
  },
  {
   "cell_type": "code",
   "execution_count": null,
   "id": "912f0ace-6645-42d4-8069-e450820dde02",
   "metadata": {},
   "outputs": [],
   "source": [
    "# export\n",
    "class UResNet18WithAttention(UResNet18):\n",
    "    \" UNet with ResNet18-like Backbone and spatial Attention in Upsampling blocks\"\n",
    "    pass"
   ]
  },
  {
   "cell_type": "code",
   "execution_count": null,
   "id": "784db978-434b-4ffa-b8c7-2b81ef269ae3",
   "metadata": {},
   "outputs": [],
   "source": [
    "m = UResNet18WithAttention(3,3)\n",
    "assert not hasattr(m.decoder_block_1, 'sa'), 'No spatial attnetion already in decoder block'"
   ]
  },
  {
   "cell_type": "code",
   "execution_count": null,
   "id": "9fa29754-d7db-43ad-b9b5-4ea5a27267ab",
   "metadata": {},
   "outputs": [],
   "source": [
    "# export\n",
    "@patch\n",
    "def decoder_layer(self:UResNet18WithAttention, **kwargs): \n",
    "    return UnetBlock(spatial_attention=True, **kwargs)"
   ]
  },
  {
   "cell_type": "markdown",
   "id": "401c4c83-2a35-483d-9ceb-650ef937bfd9",
   "metadata": {},
   "source": [
    "fastcores dispatch mechanisms can be used to add/change modules in the modular unet. "
   ]
  },
  {
   "cell_type": "code",
   "execution_count": null,
   "id": "983e2c4c-7ab4-4316-81c3-63c8d3be38b7",
   "metadata": {},
   "outputs": [],
   "source": [
    "m = UResNet18WithAttention(3,3)\n",
    "assert hasattr(m.decoder_block_1, 'sa'), 'No spatial attnetion layer in decoder block'"
   ]
  },
  {
   "cell_type": "code",
   "execution_count": null,
   "id": "e68170c3-e8f4-4145-a608-9f71ede9fd9f",
   "metadata": {},
   "outputs": [],
   "source": [
    "test_forward(m)"
   ]
  },
  {
   "cell_type": "code",
   "execution_count": null,
   "id": "1dd3ae21-d5cc-465b-932b-acbdb9d037d6",
   "metadata": {},
   "outputs": [],
   "source": [
    "# export\n",
    "class UResNet18DeepSupervision(UResNet18):\n",
    "    \" UNet with ResNet18-like Backbone and dee supervision after Upsampling blocks \"\n",
    "    def extra_after_decoder_layer(self, **kwargs): \n",
    "        return ConvLayer(**kwargs, act=None, norm=None)"
   ]
  },
  {
   "cell_type": "code",
   "execution_count": null,
   "id": "d6adf494-29ed-4e6b-bfc1-ee4b0a910029",
   "metadata": {},
   "outputs": [],
   "source": [
    "test_forward(UResNet18DeepSupervision(3,2))"
   ]
  },
  {
   "cell_type": "code",
   "execution_count": null,
   "id": "70891b65-b59a-4663-89bf-aa512c1be419",
   "metadata": {},
   "outputs": [],
   "source": [
    "# export\n",
    "class UResNet18WithAttentionAndDeepSupervision(UResNet18):\n",
    "    \" UNet with ResNet18-like Backbone and spatial attention in Upsampling blocks and deep supervision after encoder \"\n",
    "    def decoder_layer(self, **kwargs): \n",
    "        return UnetBlock(spatial_attention=True, **kwargs)\n",
    "    def extra_after_decoder_layer(self, **kwargs): \n",
    "        return ConvLayer(**kwargs, act=None, norm=None)"
   ]
  },
  {
   "cell_type": "code",
   "execution_count": null,
   "id": "2990a7f3-5599-47a3-abcb-34bca76666f3",
   "metadata": {},
   "outputs": [],
   "source": [
    "test_forward(UResNet18WithAttentionAndDeepSupervision(3,3))"
   ]
  },
  {
   "cell_type": "code",
   "execution_count": null,
   "id": "8c5e4a68-4628-414e-8e99-debcd42323b2",
   "metadata": {},
   "outputs": [],
   "source": [
    "# export\n",
    "class UResNet18WithSEAndAttentionAndDeepSupervision(UResNet18):\n",
    "    \" UNet with ResNet18-like Backbone and spatial attention in Upsampling blocks and deep supervision after encoder \"\n",
    "    def encoder_layer(self, in_c, out_c, **kwargs): \n",
    "        return nn.Sequential(\n",
    "            BasicResBlock(in_c, out_c, **kwargs), \n",
    "            SqueezeExpand(out_c, se_ratio=0.2)\n",
    "        )\n",
    "    def decoder_layer(self, **kwargs): \n",
    "        return UnetBlock(spatial_attention=True, **kwargs)\n",
    "    def extra_after_decoder_layer(self, **kwargs): \n",
    "        return ConvLayer(**kwargs, act=None, norm=None)"
   ]
  },
  {
   "cell_type": "code",
   "execution_count": null,
   "id": "c21ae07e-3964-4fd3-8756-b4f45dc6e7b3",
   "metadata": {},
   "outputs": [],
   "source": [
    "test_forward(UResNet18WithSEAndAttentionAndDeepSupervision(3,3))"
   ]
  },
  {
   "cell_type": "markdown",
   "id": "ab1a9e61-226d-4e90-b7ed-74ffa5651dd8",
   "metadata": {},
   "source": [
    "### UResNet34-like models"
   ]
  },
  {
   "cell_type": "code",
   "execution_count": null,
   "id": "bf86ffd2-b16c-45e4-9eaf-b300153ff36e",
   "metadata": {},
   "outputs": [],
   "source": [
    "# export\n",
    "class UResNet34(UResNet):\n",
    "    \" UNet with ResNet34-like Backbone \"\n",
    "    channels = 32, 64, 128, 256, 512\n",
    "    kernel_size = 3, 3, 3, 3, 3\n",
    "    stride = 2, 2, 2, 2, 2\n",
    "    padding = 'auto', 'auto', 'auto', 'auto', 'auto'\n",
    "    n_layers = 1, 3, 4, 6, 3\n",
    "    n_blocks = 5"
   ]
  },
  {
   "cell_type": "code",
   "execution_count": null,
   "id": "8d9e2efa-739e-4783-ac1c-96a585f8579b",
   "metadata": {},
   "outputs": [],
   "source": [
    "test_forward(UResNet34(3,3))"
   ]
  },
  {
   "cell_type": "code",
   "execution_count": null,
   "id": "128bf0b4-a7b3-4b44-808b-2a95a0d28742",
   "metadata": {},
   "outputs": [],
   "source": [
    "# export\n",
    "class UResNet34WithAttention(UResNet34):\n",
    "    \" UNet with ResNet34-like Backbone and spatial Attention in Upsampling blocks\"\n",
    "    def decoder_layer(self, **kwargs): \n",
    "        return UnetBlock(spatial_attention=True, **kwargs)"
   ]
  },
  {
   "cell_type": "code",
   "execution_count": null,
   "id": "7cb33129-10c1-47b6-bb63-3a786f53dca5",
   "metadata": {},
   "outputs": [],
   "source": [
    "test_forward(UResNet34WithAttention(3,3))"
   ]
  },
  {
   "cell_type": "code",
   "execution_count": null,
   "id": "82c07c39-f90b-4132-a9d5-41df8bebf9c1",
   "metadata": {},
   "outputs": [],
   "source": [
    "# export\n",
    "class UResNet34DeepSupervision(UResNet34):\n",
    "    \" UNet with ResNet34-like Backbone and dee supervision after Upsampling blocks \"\n",
    "    def extra_after_decoder_layer(self, **kwargs): \n",
    "        return DeepSupervision(**kwargs)"
   ]
  },
  {
   "cell_type": "code",
   "execution_count": null,
   "id": "ba838e44-5fe1-481d-b406-a669b1c80bf8",
   "metadata": {},
   "outputs": [],
   "source": [
    "test_forward(UResNet34DeepSupervision(3,3))"
   ]
  },
  {
   "cell_type": "code",
   "execution_count": null,
   "id": "d490c7c3-c44d-4fb0-9470-e572ac8d3b94",
   "metadata": {},
   "outputs": [],
   "source": [
    "# export\n",
    "class UResNet34WithAttentionAndDeepSupervision(UResNet34):\n",
    "    \" UNet with ResNet34-like Backbone and spatial attention in Upsampling blocks and deep supervision after encoder \"\n",
    "    def decoder_layer(self, **kwargs): \n",
    "        return UnetBlock(spatial_attention=True, **kwargs)\n",
    "    def extra_after_decoder_layer(self, **kwargs): \n",
    "        return DeepSupervision(**kwargs)"
   ]
  },
  {
   "cell_type": "code",
   "execution_count": null,
   "id": "03329fc0-593d-48ed-8b9d-d63abfaf0aa8",
   "metadata": {},
   "outputs": [],
   "source": [
    "test_forward(UResNet34WithAttentionAndDeepSupervision(3,3))"
   ]
  },
  {
   "cell_type": "code",
   "execution_count": null,
   "id": "9559d8f4-ac86-4e67-a0c2-db772a2218bb",
   "metadata": {},
   "outputs": [],
   "source": [
    "# export\n",
    "class UResNet34WithSEAndAttentionAndDeepSupervision(UResNet34):\n",
    "    \" UNet with ResNet34-like Backbone and spatial attention in Upsampling blocks and deep supervision after encoder \"\n",
    "    def encoder_layer(self, in_c, out_c, **kwargs): \n",
    "        return nn.Sequential(\n",
    "            BasicResBlock(in_c, out_c, **kwargs), \n",
    "            SqueezeExpand(out_c, se_ratio=0.2)\n",
    "        )\n",
    "    def decoder_layer(self, **kwargs): \n",
    "        return UnetBlock(spatial_attention=True, **kwargs)\n",
    "    def extra_after_decoder_layer(self, **kwargs): \n",
    "        return DeepSupervision(**kwargs)"
   ]
  },
  {
   "cell_type": "code",
   "execution_count": null,
   "id": "3b32d8af-754f-422f-ba1b-30c54b82f9d8",
   "metadata": {},
   "outputs": [],
   "source": [
    "test_forward(UResNet34WithSEAndAttentionAndDeepSupervision(3,3))"
   ]
  },
  {
   "cell_type": "code",
   "execution_count": null,
   "id": "9894dd28-f1ca-4c43-9f14-b0a9d5b46ace",
   "metadata": {},
   "outputs": [
    {
     "name": "stdout",
     "output_type": "stream",
     "text": [
      "Converted blocks.ipynb.\n",
      "Converted index.ipynb.\n",
      "Converted models.ipynb.\n",
      "Converted modular_unet.ipynb.\n",
      "Converted utils.ipynb.\n"
     ]
    }
   ],
   "source": [
    "# hide\n",
    "from nbdev.export import *\n",
    "notebook2script()"
   ]
  },
  {
   "cell_type": "code",
   "execution_count": null,
   "id": "6d227ddd-5758-45b1-babb-ed0ed1eaf9da",
   "metadata": {},
   "outputs": [],
   "source": []
  }
 ],
 "metadata": {
  "kernelspec": {
   "display_name": "Python 3",
   "language": "python",
   "name": "python3"
  }
 },
 "nbformat": 4,
 "nbformat_minor": 5
}
