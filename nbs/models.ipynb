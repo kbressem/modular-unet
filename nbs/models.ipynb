{
 "cells": [
  {
   "cell_type": "markdown",
   "id": "f0bf97ab",
   "metadata": {},
   "source": [
    "# Models\n",
    "> Prebuild ModularUNet subclasses"
   ]
  },
  {
   "cell_type": "code",
   "execution_count": null,
   "id": "20744377",
   "metadata": {},
   "outputs": [],
   "source": [
    "# export\n",
    "# default_exp models\n",
    "import torch\n",
    "from torch import nn\n",
    "from fastcore.dispatch import patch"
   ]
  },
  {
   "cell_type": "code",
   "execution_count": null,
   "id": "7888bcf4",
   "metadata": {},
   "outputs": [],
   "source": [
    "# export\n",
    "import sys\n",
    "sys.path.append('..')\n",
    "from modular_unet.modular_unet import ModularUNet\n",
    "from modular_unet.blocks import ResBlock, UnetBlock, ConvLayer, DoubleConv, SqueezeExpand, DeepSupervision\n",
    "from modular_unet.utils import test_forward"
   ]
  },
  {
   "cell_type": "markdown",
   "id": "f7ba246c",
   "metadata": {},
   "source": [
    "## ResNet-Based Models"
   ]
  },
  {
   "cell_type": "code",
   "execution_count": null,
   "id": "038fdb15",
   "metadata": {},
   "outputs": [],
   "source": [
    "# export\n",
    "class UResNet(ModularUNet):    \n",
    "    def encoder_layer(self, **kwargs): return ResBlock(**kwargs)\n",
    "    def middle_layer(self, **kwargs): return DoubleConv(**kwargs)\n",
    "    def skip_layer(self, **kwargs): return nn.Identity()\n",
    "    def decoder_layer(self, **kwargs): return UnetBlock(**kwargs)\n",
    "    def extra_after_decoder_layer(self, **kwargs): return nn.Identity()\n",
    "    def final_layer(self, **kwargs): return ResBlock(**kwargs)"
   ]
  },
  {
   "cell_type": "markdown",
   "id": "87c69260",
   "metadata": {},
   "source": [
    "### UResNet18-like models"
   ]
  },
  {
   "cell_type": "code",
   "execution_count": null,
   "id": "48c74366",
   "metadata": {},
   "outputs": [],
   "source": [
    "# export \n",
    "class UResNet18(UResNet):\n",
    "    \" UNet with ResNet18-like Backbone \"\n",
    "    channels = 32, 64, 128, 256, 512\n",
    "    kernel_size = 3, 3, 3, 3, 3\n",
    "    stride = 2, 2, 2, 2, 2\n",
    "    padding = 'auto', 'auto', 'auto', 'auto', 'auto'\n",
    "    n_layers = 1, 2, 2, 2, 2\n",
    "    n_blocks = 5"
   ]
  },
  {
   "cell_type": "code",
   "execution_count": null,
   "id": "9fced4e9",
   "metadata": {},
   "outputs": [],
   "source": [
    "test_forward(UResNet18(3,3))"
   ]
  },
  {
   "cell_type": "code",
   "execution_count": null,
   "id": "9a6e2706",
   "metadata": {},
   "outputs": [],
   "source": [
    "# export\n",
    "class UResNet18WithAttention(UResNet18):\n",
    "    \" UNet with ResNet18-like Backbone and spatial Attention in Upsampling blocks\"\n",
    "    pass"
   ]
  },
  {
   "cell_type": "code",
   "execution_count": null,
   "id": "c1086b41",
   "metadata": {},
   "outputs": [],
   "source": [
    "m = UResNet18WithAttention(3,3)\n",
    "assert not hasattr(m.decoder_block_1, 'sa'), 'No spatial attnetion already in decoder block'"
   ]
  },
  {
   "cell_type": "code",
   "execution_count": null,
   "id": "34dd7299",
   "metadata": {},
   "outputs": [],
   "source": [
    "# export\n",
    "@patch\n",
    "def decoder_layer(self:UResNet18WithAttention, **kwargs): \n",
    "    return UnetBlock(spatial_attention=True, **kwargs)"
   ]
  },
  {
   "cell_type": "markdown",
   "id": "6e0b7c27",
   "metadata": {},
   "source": [
    "fastcores dispatch mechanisms can be used to add/change modules in the modular unet. "
   ]
  },
  {
   "cell_type": "code",
   "execution_count": null,
   "id": "4b9ffcef",
   "metadata": {},
   "outputs": [],
   "source": [
    "m = UResNet18WithAttention(3,3)\n",
    "assert hasattr(m.decoder_block_1, 'sa'), 'No spatial attnetion layer in decoder block'"
   ]
  },
  {
   "cell_type": "code",
   "execution_count": null,
   "id": "69253420",
   "metadata": {},
   "outputs": [],
   "source": [
    "test_forward(m)"
   ]
  },
  {
   "cell_type": "code",
   "execution_count": null,
   "id": "a371cc69",
   "metadata": {},
   "outputs": [],
   "source": [
    "# export\n",
    "class UResNet18DeepSupervision(UResNet18):\n",
    "    \" UNet with ResNet18-like Backbone and dee supervision after Upsampling blocks \"\n",
    "    def extra_after_decoder_layer(self, **kwargs): \n",
    "        return ConvLayer(**kwargs, act=None, norm=None)"
   ]
  },
  {
   "cell_type": "code",
   "execution_count": null,
   "id": "40038b68",
   "metadata": {},
   "outputs": [],
   "source": [
    "test_forward(UResNet18DeepSupervision(3,2))"
   ]
  },
  {
   "cell_type": "code",
   "execution_count": null,
   "id": "d75fdc62",
   "metadata": {},
   "outputs": [],
   "source": [
    "# export\n",
    "class UResNet18WithAttentionAndDeepSupervision(UResNet18):\n",
    "    \" UNet with ResNet18-like Backbone and spatial attention in Upsampling blocks and deep supervision after encoder \"\n",
    "    def decoder_layer(self, **kwargs): \n",
    "        return UnetBlock(spatial_attention=True, **kwargs)\n",
    "    def extra_after_decoder_layer(self, **kwargs): \n",
    "        return ConvLayer(**kwargs, act=None, norm=None)"
   ]
  },
  {
   "cell_type": "code",
   "execution_count": null,
   "id": "1fb86ba6",
   "metadata": {},
   "outputs": [],
   "source": [
    "test_forward(UResNet18WithAttentionAndDeepSupervision(3,3))"
   ]
  },
  {
   "cell_type": "code",
   "execution_count": null,
   "id": "cedc666d",
   "metadata": {},
   "outputs": [],
   "source": [
    "# export\n",
    "class UResNet18WithSEAndAttentionAndDeepSupervision(UResNet18):\n",
    "    \" UNet with ResNet18-like Backbone and spatial attention in Upsampling blocks and deep supervision after encoder \"\n",
    "    def encoder_layer(self, in_c, out_c, **kwargs): \n",
    "        return nn.Sequential(\n",
    "            ResBlock(in_c, out_c, **kwargs), \n",
    "            SqueezeExpand(out_c, se_ratio=0.2)\n",
    "        )\n",
    "    def decoder_layer(self, **kwargs): \n",
    "        return UnetBlock(spatial_attention=True, **kwargs)\n",
    "    def extra_after_decoder_layer(self, **kwargs): \n",
    "        return ConvLayer(**kwargs, act=None, norm=None)"
   ]
  },
  {
   "cell_type": "code",
   "execution_count": null,
   "id": "b55cfc0e",
   "metadata": {},
   "outputs": [],
   "source": [
    "test_forward(UResNet18WithSEAndAttentionAndDeepSupervision(3,3))"
   ]
  },
  {
   "cell_type": "markdown",
   "id": "e8f6639a",
   "metadata": {},
   "source": [
    "### UResNet34-like models"
   ]
  },
  {
   "cell_type": "code",
   "execution_count": null,
   "id": "389755f2",
   "metadata": {},
   "outputs": [],
   "source": [
    "# export\n",
    "class UResNet34(UResNet):\n",
    "    \" UNet with ResNet34-like Backbone \"\n",
    "    channels = 32, 64, 128, 256, 512\n",
    "    kernel_size = 3, 3, 3, 3, 3\n",
    "    stride = 2, 2, 2, 2, 2\n",
    "    padding = 'auto', 'auto', 'auto', 'auto', 'auto'\n",
    "    n_layers = 1, 3, 4, 6, 3\n",
    "    n_blocks = 5"
   ]
  },
  {
   "cell_type": "code",
   "execution_count": null,
   "id": "403ece27",
   "metadata": {},
   "outputs": [],
   "source": [
    "test_forward(UResNet34(3,3))"
   ]
  },
  {
   "cell_type": "code",
   "execution_count": null,
   "id": "a41f677a",
   "metadata": {},
   "outputs": [],
   "source": [
    "# export\n",
    "class UResNet34WithAttention(UResNet34):\n",
    "    \" UNet with ResNet34-like Backbone and spatial Attention in Upsampling blocks\"\n",
    "    def decoder_layer(self, **kwargs): \n",
    "        return UnetBlock(spatial_attention=True, **kwargs)"
   ]
  },
  {
   "cell_type": "code",
   "execution_count": null,
   "id": "b5a16a87",
   "metadata": {},
   "outputs": [],
   "source": [
    "test_forward(UResNet34WithAttention(3,3))"
   ]
  },
  {
   "cell_type": "code",
   "execution_count": null,
   "id": "3ed6b28b",
   "metadata": {},
   "outputs": [],
   "source": [
    "# export\n",
    "class UResNet34DeepSupervision(UResNet34):\n",
    "    \" UNet with ResNet34-like Backbone and dee supervision after Upsampling blocks \"\n",
    "    def extra_after_decoder_layer(self, **kwargs): \n",
    "        return DeepSupervision(**kwargs)"
   ]
  },
  {
   "cell_type": "code",
   "execution_count": null,
   "id": "cd20566c",
   "metadata": {},
   "outputs": [],
   "source": [
    "test_forward(UResNet34DeepSupervision(3,3))"
   ]
  },
  {
   "cell_type": "code",
   "execution_count": null,
   "id": "ed6121a8",
   "metadata": {},
   "outputs": [],
   "source": [
    "# export\n",
    "class UResNet34WithAttentionAndDeepSupervision(UResNet34):\n",
    "    \" UNet with ResNet34-like Backbone and spatial attention in Upsampling blocks and deep supervision after encoder \"\n",
    "    def decoder_layer(self, **kwargs): \n",
    "        return UnetBlock(spatial_attention=True, **kwargs)\n",
    "    def extra_after_decoder_layer(self, **kwargs): \n",
    "        return DeepSupervision(**kwargs)"
   ]
  },
  {
   "cell_type": "code",
   "execution_count": null,
   "id": "42bb6a3a",
   "metadata": {},
   "outputs": [],
   "source": [
    "test_forward(UResNet34WithAttentionAndDeepSupervision(3,3))"
   ]
  },
  {
   "cell_type": "code",
   "execution_count": null,
   "id": "f72f9184",
   "metadata": {},
   "outputs": [],
   "source": [
    "# export\n",
    "class UResNet34WithSEAndAttentionAndDeepSupervision(UResNet34):\n",
    "    \" UNet with ResNet34-like Backbone and spatial attention in Upsampling blocks and deep supervision after encoder \"\n",
    "    def encoder_layer(self, in_c, out_c, **kwargs): \n",
    "        return nn.Sequential(\n",
    "            ResBlock(in_c, out_c, **kwargs), \n",
    "            SqueezeExpand(out_c, se_ratio=0.2)\n",
    "        )\n",
    "    def decoder_layer(self, **kwargs): \n",
    "        return UnetBlock(spatial_attention=True, **kwargs)\n",
    "    def extra_after_decoder_layer(self, **kwargs): \n",
    "        return DeepSupervision(**kwargs)"
   ]
  },
  {
   "cell_type": "code",
   "execution_count": null,
   "id": "ae160472",
   "metadata": {},
   "outputs": [],
   "source": [
    "test_forward(UResNet34WithSEAndAttentionAndDeepSupervision(3,3))"
   ]
  },
  {
   "cell_type": "markdown",
   "id": "6eae31ef-92ca-4821-b196-24bcc4fe8540",
   "metadata": {},
   "source": [
    "### UResNet50-like models"
   ]
  },
  {
   "cell_type": "code",
   "execution_count": null,
   "id": "244d36af-5dfb-41af-b053-fbc58a5f247e",
   "metadata": {},
   "outputs": [],
   "source": [
    "# export\n",
    "class UResNet50(UResNet):\n",
    "    \" UNet with ResNet50-like Backbone \"\n",
    "    channels = 128, 256, 512, 1024, 2048\n",
    "    kernel_size = 3, 3, 3, 3, 3\n",
    "    stride = 2, 2, 2, 2, 2\n",
    "    padding = 'auto', 'auto', 'auto', 'auto', 'auto'\n",
    "    n_layers = 1, 3, 4, 6, 3\n",
    "    n_blocks = 5\n",
    "    \n",
    "    def encoder_layer(self, **kwargs): return ResBlock(bottleneck = True, **kwargs)\n"
   ]
  },
  {
   "cell_type": "code",
   "execution_count": null,
   "id": "6de3ba8f-5dcd-46bb-9f7a-83d3d9f38da8",
   "metadata": {},
   "outputs": [],
   "source": [
    "test_forward(UResNet50(3,3))"
   ]
  },
  {
   "cell_type": "code",
   "execution_count": null,
   "id": "78dc1832-8486-45cd-a2f2-dd97d72a68fa",
   "metadata": {},
   "outputs": [],
   "source": [
    "# export\n",
    "class UResNet50WithAttention(UResNet50):\n",
    "    \" UNet with ResNet50-like Backbone and spatial Attention in Upsampling blocks\"\n",
    "    def decoder_layer(self, **kwargs): \n",
    "        return UnetBlock(spatial_attention=True, **kwargs)"
   ]
  },
  {
   "cell_type": "code",
   "execution_count": null,
   "id": "2a3398e9-a4a6-46f3-9f9d-8a19860e76d3",
   "metadata": {},
   "outputs": [],
   "source": [
    "test_forward(UResNet50WithAttention(3,3))"
   ]
  },
  {
   "cell_type": "code",
   "execution_count": null,
   "id": "e8814fd3-640b-4f0f-b02b-e581eafe50d1",
   "metadata": {},
   "outputs": [],
   "source": [
    "# export\n",
    "class UResNet50DeepSupervision(UResNet50):\n",
    "    \" UNet with ResNet50-like Backbone and dee supervision after Upsampling blocks \"\n",
    "    def extra_after_decoder_layer(self, **kwargs): \n",
    "        return DeepSupervision(**kwargs)"
   ]
  },
  {
   "cell_type": "code",
   "execution_count": null,
   "id": "c9f50c6b-b055-435d-94e0-4acdbe77d1b4",
   "metadata": {},
   "outputs": [],
   "source": [
    "test_forward(UResNet50DeepSupervision(3,3))"
   ]
  },
  {
   "cell_type": "code",
   "execution_count": null,
   "id": "9b171405-1468-486f-ab79-796b0501ca7f",
   "metadata": {},
   "outputs": [],
   "source": [
    "# export\n",
    "class UResNet50WithAttentionAndDeepSupervision(UResNet50):\n",
    "    \" UNet with ResNet50-like Backbone and spatial attention in Upsampling blocks and deep supervision after encoder \"\n",
    "    def decoder_layer(self, **kwargs): \n",
    "        return UnetBlock(spatial_attention=True, **kwargs)\n",
    "    def extra_after_decoder_layer(self, **kwargs): \n",
    "        return DeepSupervision(**kwargs)"
   ]
  },
  {
   "cell_type": "code",
   "execution_count": null,
   "id": "e98b8f06-bffb-403a-8c8a-fe794c2837fc",
   "metadata": {},
   "outputs": [],
   "source": [
    "test_forward(UResNet50WithAttentionAndDeepSupervision(3,3))"
   ]
  },
  {
   "cell_type": "code",
   "execution_count": null,
   "id": "b4fb1df1-8e35-4dcb-a72e-48f6f23b646b",
   "metadata": {},
   "outputs": [],
   "source": [
    "# export\n",
    "class UResNet50WithSEAndAttentionAndDeepSupervision(UResNet50):\n",
    "    \" UNet with ResNet50-like Backbone and spatial attention in Upsampling blocks and deep supervision after encoder \"\n",
    "    def encoder_layer(self, in_c, out_c, **kwargs): \n",
    "        return nn.Sequential(\n",
    "            ResBlock(in_c, out_c, bottleneck=True, **kwargs), \n",
    "            SqueezeExpand(out_c, se_ratio=0.2)\n",
    "        )\n",
    "    def decoder_layer(self, **kwargs): \n",
    "        return UnetBlock(spatial_attention=True, **kwargs)\n",
    "    def extra_after_decoder_layer(self, **kwargs): \n",
    "        return DeepSupervision(**kwargs)"
   ]
  },
  {
   "cell_type": "code",
   "execution_count": null,
   "id": "7fc946c1-c631-40c5-97e7-85cda1108090",
   "metadata": {},
   "outputs": [],
   "source": [
    "test_forward(UResNet50WithSEAndAttentionAndDeepSupervision(3,3))"
   ]
  },
  {
   "cell_type": "code",
   "execution_count": null,
   "id": "4e9d3cb6",
   "metadata": {},
   "outputs": [
    {
     "name": "stdout",
     "output_type": "stream",
     "text": [
      "Converted blocks.ipynb.\n",
      "Converted index.ipynb.\n",
      "Converted models.ipynb.\n",
      "Converted modular_unet.ipynb.\n",
      "Converted utils.ipynb.\n"
     ]
    }
   ],
   "source": [
    "# hide\n",
    "from nbdev.export import *\n",
    "notebook2script()"
   ]
  },
  {
   "cell_type": "code",
   "execution_count": null,
   "id": "cf8d7d67",
   "metadata": {},
   "outputs": [],
   "source": []
  }
 ],
 "metadata": {
  "kernelspec": {
   "display_name": "Python 3",
   "language": "python",
   "name": "python3"
  }
 },
 "nbformat": 4,
 "nbformat_minor": 5
}
