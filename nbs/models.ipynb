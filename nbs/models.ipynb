{
 "cells": [
  {
   "cell_type": "markdown",
   "metadata": {},
   "source": [
    "# Models\n",
    "> Prebuild ModularUNet subclasses"
   ]
  },
  {
   "cell_type": "code",
   "execution_count": null,
   "metadata": {},
   "outputs": [],
   "source": [
    "# export\n",
    "# default_exp models\n",
    "import torch\n",
    "from torch import nn\n",
    "from fastcore.dispatch import patch"
   ]
  },
  {
   "cell_type": "code",
   "execution_count": null,
   "metadata": {},
   "outputs": [],
   "source": [
    "# export\n",
    "import sys\n",
    "sys.path.append('..')\n",
    "from attention_unet.modular_unet import ModularUNet\n",
    "from attention_unet.blocks import BasicResBlock, UnetBlock, ConvLayer, DoubleConv, SqueezeExpand, DeepSupervision\n",
    "from attention_unet.utils import test_forward"
   ]
  },
  {
   "cell_type": "markdown",
   "metadata": {},
   "source": [
    "## ResNet-Based Models"
   ]
  },
  {
   "cell_type": "code",
   "execution_count": null,
   "metadata": {},
   "outputs": [],
   "source": [
    "# export\n",
    "class UResNet(ModularUNet):    \n",
    "    def encoder_layer(self, **kwargs): return BasicResBlock(**kwargs)\n",
    "    def middle_layer(self, **kwargs): return DoubleConv(**kwargs)\n",
    "    def skip_layer(self, **kwargs): return nn.Identity()\n",
    "    def decoder_layer(self, **kwargs): return UnetBlock(**kwargs)\n",
    "    def extra_after_decoder_layer(self, **kwargs): return nn.Identity()\n",
    "    def final_layer(self, **kwargs): return BasicResBlock(**kwargs)"
   ]
  },
  {
   "cell_type": "markdown",
   "metadata": {},
   "source": [
    "### UResNet18-like models"
   ]
  },
  {
   "cell_type": "code",
   "execution_count": null,
   "metadata": {},
   "outputs": [],
   "source": [
    "# export \n",
    "class UResNet18(UResNet):\n",
    "    \" UNet with ResNet18-like Backbone \"\n",
    "    channels = 32, 64, 128, 256, 512\n",
    "    kernel_size = 3, 3, 3, 3, 3\n",
    "    stride = 2, 2, 2, 2, 2\n",
    "    padding = 'auto', 'auto', 'auto', 'auto', 'auto'\n",
    "    n_layers = 1, 2, 2, 2, 2\n",
    "    n_blocks = 5"
   ]
  },
  {
   "cell_type": "code",
   "execution_count": null,
   "metadata": {},
   "outputs": [],
   "source": [
    "test_forward(UResNet18(3,3))"
   ]
  },
  {
   "cell_type": "code",
   "execution_count": null,
   "metadata": {},
   "outputs": [],
   "source": [
    "# export\n",
    "class UResNet18WithAttention(UResNet18):\n",
    "    \" UNet with ResNet18-like Backbone and spatial Attention in Upsampling blocks\"\n",
    "    pass"
   ]
  },
  {
   "cell_type": "code",
   "execution_count": null,
   "metadata": {},
   "outputs": [],
   "source": [
    "m = UResNet18WithAttention(3,3)\n",
    "assert not hasattr(m.decoder_block_1, 'sa'), 'No spatial attnetion already in decoder block'"
   ]
  },
  {
   "cell_type": "code",
   "execution_count": null,
   "metadata": {},
   "outputs": [],
   "source": [
    "# export\n",
    "@patch\n",
    "def decoder_layer(self:UResNet18WithAttention, **kwargs): \n",
    "    return UnetBlock(spatial_attention=True, **kwargs)"
   ]
  },
  {
   "cell_type": "markdown",
   "metadata": {},
   "source": [
    "fastcores dispatch mechanisms can be used to add/change modules in the modular unet. "
   ]
  },
  {
   "cell_type": "code",
   "execution_count": null,
   "metadata": {},
   "outputs": [],
   "source": [
    "m = UResNet18WithAttention(3,3)\n",
    "assert hasattr(m.decoder_block_1, 'sa'), 'No spatial attnetion layer in decoder block'"
   ]
  },
  {
   "cell_type": "code",
   "execution_count": null,
   "metadata": {},
   "outputs": [],
   "source": [
    "test_forward(m)"
   ]
  },
  {
   "cell_type": "code",
   "execution_count": null,
   "metadata": {},
   "outputs": [],
   "source": [
    "# export\n",
    "class UResNet18DeepSupervision(UResNet18):\n",
    "    \" UNet with ResNet18-like Backbone and dee supervision after Upsampling blocks \"\n",
    "    def extra_after_decoder_layer(self, **kwargs): \n",
    "        return ConvLayer(**kwargs, act=None, norm=None)"
   ]
  },
  {
   "cell_type": "code",
   "execution_count": null,
   "metadata": {},
   "outputs": [],
   "source": [
    "test_forward(UResNet18DeepSupervision(3,2))"
   ]
  },
  {
   "cell_type": "code",
   "execution_count": null,
   "metadata": {},
   "outputs": [],
   "source": [
    "# export\n",
    "class UResNet18WithAttentionAndDeepSupervision(UResNet18):\n",
    "    \" UNet with ResNet18-like Backbone and spatial attention in Upsampling blocks and deep supervision after encoder \"\n",
    "    def decoder_layer(self, **kwargs): \n",
    "        return UnetBlock(spatial_attention=True, **kwargs)\n",
    "    def extra_after_decoder_layer(self, **kwargs): \n",
    "        return ConvLayer(**kwargs, act=None, norm=None)"
   ]
  },
  {
   "cell_type": "code",
   "execution_count": null,
   "metadata": {},
   "outputs": [],
   "source": [
    "test_forward(UResNet18WithAttentionAndDeepSupervision(3,3))"
   ]
  },
  {
   "cell_type": "code",
   "execution_count": null,
   "metadata": {},
   "outputs": [],
   "source": [
    "# export\n",
    "class UResNet18WithSEAndAttentionAndDeepSupervision(UResNet18):\n",
    "    \" UNet with ResNet18-like Backbone and spatial attention in Upsampling blocks and deep supervision after encoder \"\n",
    "    def encoder_layer(self, in_c, out_c, **kwargs): \n",
    "        return nn.Sequential(\n",
    "            BasicResBlock(in_c, out_c, **kwargs), \n",
    "            SqueezeExpand(out_c, se_ratio=0.2)\n",
    "        )\n",
    "    def decoder_layer(self, **kwargs): \n",
    "        return UnetBlock(spatial_attention=True, **kwargs)\n",
    "    def extra_after_decoder_layer(self, **kwargs): \n",
    "        return ConvLayer(**kwargs, act=None, norm=None)"
   ]
  },
  {
   "cell_type": "code",
   "execution_count": null,
   "metadata": {},
   "outputs": [],
   "source": [
    "test_forward(UResNet18WithSEAndAttentionAndDeepSupervision(3,3))"
   ]
  },
  {
   "cell_type": "markdown",
   "metadata": {},
   "source": [
    "### UResNet34-like models"
   ]
  },
  {
   "cell_type": "code",
   "execution_count": null,
   "metadata": {},
   "outputs": [],
   "source": [
    "# export\n",
    "class UResNet34(UResNet):\n",
    "    \" UNet with ResNet34-like Backbone \"\n",
    "    channels = 32, 64, 128, 256, 512\n",
    "    kernel_size = 3, 3, 3, 3, 3\n",
    "    stride = 2, 2, 2, 2, 2\n",
    "    padding = 'auto', 'auto', 'auto', 'auto', 'auto'\n",
    "    n_layers = 1, 3, 4, 6, 3\n",
    "    n_blocks = 5"
   ]
  },
  {
   "cell_type": "code",
   "execution_count": null,
   "metadata": {},
   "outputs": [],
   "source": [
    "test_forward(UResNet34(3,3))"
   ]
  },
  {
   "cell_type": "code",
   "execution_count": null,
   "metadata": {},
   "outputs": [],
   "source": [
    "# export\n",
    "class UResNet34WithAttention(UResNet34):\n",
    "    \" UNet with ResNet34-like Backbone and spatial Attention in Upsampling blocks\"\n",
    "    def decoder_layer(self, **kwargs): \n",
    "        return UnetBlock(spatial_attention=True, **kwargs)"
   ]
  },
  {
   "cell_type": "code",
   "execution_count": null,
   "metadata": {},
   "outputs": [],
   "source": [
    "test_forward(UResNet34WithAttention(3,3))"
   ]
  },
  {
   "cell_type": "code",
   "execution_count": null,
   "metadata": {},
   "outputs": [],
   "source": [
    "# export\n",
    "class UResNet34DeepSupervision(UResNet34):\n",
    "    \" UNet with ResNet34-like Backbone and dee supervision after Upsampling blocks \"\n",
    "    def extra_after_decoder_layer(self, **kwargs): \n",
    "        return DeepSupervision(**kwargs)"
   ]
  },
  {
   "cell_type": "code",
   "execution_count": null,
   "metadata": {},
   "outputs": [],
   "source": [
    "test_forward(UResNet34DeepSupervision(3,3))"
   ]
  },
  {
   "cell_type": "code",
   "execution_count": null,
   "metadata": {},
   "outputs": [],
   "source": [
    "# export\n",
    "class UResNet34WithAttentionAndDeepSupervision(UResNet34):\n",
    "    \" UNet with ResNet34-like Backbone and spatial attention in Upsampling blocks and deep supervision after encoder \"\n",
    "    def decoder_layer(self, **kwargs): \n",
    "        return UnetBlock(spatial_attention=True, **kwargs)\n",
    "    def extra_after_decoder_layer(self, **kwargs): \n",
    "        return DeepSupervision(**kwargs)"
   ]
  },
  {
   "cell_type": "code",
   "execution_count": null,
   "metadata": {},
   "outputs": [],
   "source": [
    "test_forward(UResNet34WithAttentionAndDeepSupervision(3,3))"
   ]
  },
  {
   "cell_type": "code",
   "execution_count": null,
   "metadata": {},
   "outputs": [],
   "source": [
    "# export\n",
    "class UResNet34WithSEAndAttentionAndDeepSupervision(UResNet34):\n",
    "    \" UNet with ResNet34-like Backbone and spatial attention in Upsampling blocks and deep supervision after encoder \"\n",
    "    def encoder_layer(self, in_c, out_c, **kwargs): \n",
    "        return nn.Sequential(\n",
    "            BasicResBlock(in_c, out_c, **kwargs), \n",
    "            SqueezeExpand(out_c, se_ratio=0.2)\n",
    "        )\n",
    "    def decoder_layer(self, **kwargs): \n",
    "        return UnetBlock(spatial_attention=True, **kwargs)\n",
    "    def extra_after_decoder_layer(self, **kwargs): \n",
    "        return DeepSupervision(**kwargs)"
   ]
  },
  {
   "cell_type": "code",
   "execution_count": null,
   "metadata": {},
   "outputs": [],
   "source": [
    "test_forward(UResNet34WithSEAndAttentionAndDeepSupervision(3,3))"
   ]
  },
  {
   "cell_type": "code",
   "execution_count": null,
   "metadata": {},
   "outputs": [
    {
     "name": "stdout",
     "output_type": "stream",
     "text": [
      "Converted blocks.ipynb.\n",
      "Converted index.ipynb.\n",
      "Converted models.ipynb.\n",
      "Converted modular_unet.ipynb.\n",
      "Converted utils.ipynb.\n"
     ]
    }
   ],
   "source": [
    "# hide\n",
    "from nbdev.export import *\n",
    "notebook2script()"
   ]
  },
  {
   "cell_type": "code",
   "execution_count": null,
   "metadata": {},
   "outputs": [],
   "source": []
  }
 ],
 "metadata": {
  "kernelspec": {
   "display_name": "Python 3",
   "language": "python",
   "name": "python3"
  },
  "language_info": {
   "codemirror_mode": {
    "name": "ipython",
    "version": 3
   },
   "file_extension": ".py",
   "mimetype": "text/x-python",
   "name": "python",
   "nbconvert_exporter": "python",
   "pygments_lexer": "ipython3",
   "version": "3.7.4"
  }
 },
 "nbformat": 4,
 "nbformat_minor": 5
}
