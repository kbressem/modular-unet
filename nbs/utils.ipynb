{
 "cells": [
  {
   "cell_type": "markdown",
   "metadata": {},
   "source": [
    "# Utils"
   ]
  },
  {
   "cell_type": "code",
   "execution_count": 1,
   "metadata": {},
   "outputs": [],
   "source": [
    "# export\n",
    "# default_exp utils\n",
    "import torch"
   ]
  },
  {
   "cell_type": "code",
   "execution_count": 2,
   "metadata": {},
   "outputs": [],
   "source": [
    "# export\n",
    "def all_equal(iterator):\n",
    "    \" Check if all elements of a list are equal (https://stackoverflow.com/a/3844832/12995344)\"\n",
    "    iterator = iter(iterator)\n",
    "    try:\n",
    "        first = next(iterator)\n",
    "    except StopIteration:\n",
    "        return True\n",
    "    return all(first == x for x in iterator)"
   ]
  },
  {
   "cell_type": "code",
   "execution_count": 3,
   "metadata": {},
   "outputs": [],
   "source": [
    "# export\n",
    "def first_layer(module): \n",
    "    \" Extract the first layer of a (nested) nn.Sequential\"\n",
    "    while True: \n",
    "        try: module = next(module.children())\n",
    "        except: return module"
   ]
  },
  {
   "cell_type": "code",
   "execution_count": 4,
   "metadata": {},
   "outputs": [],
   "source": [
    "# export\n",
    "def hasattrs(x, attrs, do_raise=False):\n",
    "    \" Check if `x` has all atributes. Optionally raise `ValueError` if some are missing\"\n",
    "    present = [hasattr(x, attr) for attr in attrs]\n",
    "    all_present = all(present)\n",
    "    if do_raise and not all_present: \n",
    "        attrs = [attr for attr, p in zip(attrs, present) if not p]\n",
    "        raise ValueError(f'{x.__class__.__name__} has no attributes {attrs}')\n",
    "    return all_present"
   ]
  },
  {
   "cell_type": "code",
   "execution_count": 7,
   "metadata": {},
   "outputs": [],
   "source": [
    "# export\n",
    "def test_forward(model, inp_sz = (10, 25, 25), check_size=True):\n",
    "    try: in_c = first_layer(model).in_channels\n",
    "    except: in_c = 3 # make an educated guess :)\n",
    "    x = torch.randn(2, in_c, *inp_sz)\n",
    "    out = model(x)\n",
    "    if check_size: \n",
    "        assert out.shape[2:] == x.shape[2:], 'Size of input and output are not equal.'"
   ]
  },
  {
   "cell_type": "code",
   "execution_count": 8,
   "metadata": {},
   "outputs": [
    {
     "name": "stdout",
     "output_type": "stream",
     "text": [
      "Converted blocks.ipynb.\n",
      "Converted index.ipynb.\n",
      "Converted models.ipynb.\n",
      "Converted modular_unet.ipynb.\n",
      "Converted utils.ipynb.\n"
     ]
    }
   ],
   "source": [
    "# hide\n",
    "from nbdev.export import *\n",
    "notebook2script()"
   ]
  },
  {
   "cell_type": "code",
   "execution_count": null,
   "metadata": {},
   "outputs": [],
   "source": []
  }
 ],
 "metadata": {
  "kernelspec": {
   "display_name": "fastai",
   "language": "python",
   "name": "fastai"
  },
  "language_info": {
   "codemirror_mode": {
    "name": "ipython",
    "version": 3
   },
   "file_extension": ".py",
   "mimetype": "text/x-python",
   "name": "python",
   "nbconvert_exporter": "python",
   "pygments_lexer": "ipython3",
   "version": "3.7.10"
  }
 },
 "nbformat": 4,
 "nbformat_minor": 5
}
