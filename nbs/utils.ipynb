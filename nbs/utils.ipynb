{
 "cells": [
  {
   "cell_type": "markdown",
   "id": "224776d8-952e-4d16-be97-da3bbc74f89a",
   "metadata": {},
   "source": [
    "# Utils"
   ]
  },
  {
   "cell_type": "code",
   "execution_count": null,
   "id": "199ce903-e694-49e8-a245-9ff12923c89a",
   "metadata": {},
   "outputs": [],
   "source": [
    "# export\n",
    "# default_exp utils"
   ]
  },
  {
   "cell_type": "code",
   "execution_count": null,
   "id": "8382277f-f1c3-4731-9993-6b8bf7458a62",
   "metadata": {},
   "outputs": [],
   "source": [
    "# export\n",
    "def all_equal(iterator):\n",
    "    \" Check if all elements of a list are equal (https://stackoverflow.com/a/3844832/12995344)\"\n",
    "    iterator = iter(iterator)\n",
    "    try:\n",
    "        first = next(iterator)\n",
    "    except StopIteration:\n",
    "        return True\n",
    "    return all(first == x for x in iterator)"
   ]
  },
  {
   "cell_type": "code",
   "execution_count": null,
   "id": "2a1f609a-eddc-44d9-8736-bd5f6a26d7d7",
   "metadata": {},
   "outputs": [],
   "source": [
    "# export\n",
    "def first_layer(module): \n",
    "    \" Extract the first layer of a (nested) nn.Sequential\"\n",
    "    while True: \n",
    "        try: module = next(module.children())\n",
    "        except: return module"
   ]
  },
  {
   "cell_type": "code",
   "execution_count": null,
   "id": "2c03b101-c886-4966-9e89-ce9c7723d9c1",
   "metadata": {},
   "outputs": [],
   "source": [
    "# export\n",
    "def hasattrs(x, attrs, do_raise=False):\n",
    "    \" Check if `x` has all atributes. Optionally raise `ValueError` if some are missing\"\n",
    "    present = [hasattr(x, attr) for attr in attrs]\n",
    "    all_present = all(present)\n",
    "    if do_raise and not all_present: \n",
    "        attrs = [attr for attr, p in zip(attrs, present) if not p]\n",
    "        raise ValueError(f'{x.__class__.__name__} has no attributes {attrs}')\n",
    "    return all_present"
   ]
  },
  {
   "cell_type": "code",
   "execution_count": null,
   "id": "d4867f97-bb0f-43bb-939f-edcb5ee32e7b",
   "metadata": {},
   "outputs": [
    {
     "name": "stdout",
     "output_type": "stream",
     "text": [
      "Converted blocks.ipynb.\n",
      "Converted index.ipynb.\n",
      "Converted unet.ipynb.\n",
      "Converted utils.ipynb.\n"
     ]
    }
   ],
   "source": [
    "# hide\n",
    "from nbdev.export import *\n",
    "notebook2script()"
   ]
  },
  {
   "cell_type": "code",
   "execution_count": null,
   "id": "89b674a1-3c0e-4302-b26f-d1214958974a",
   "metadata": {},
   "outputs": [],
   "source": []
  }
 ],
 "metadata": {
  "kernelspec": {
   "display_name": "Python 3",
   "language": "python",
   "name": "python3"
  }
 },
 "nbformat": 4,
 "nbformat_minor": 5
}
